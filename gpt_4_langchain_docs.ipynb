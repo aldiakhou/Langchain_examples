{
  "cells": [
    {
      "cell_type": "markdown",
      "metadata": {
        "id": "view-in-github",
        "colab_type": "text"
      },
      "source": [
        "<a href=\"https://colab.research.google.com/github/aldiakhou/Langchain_examples/blob/master/gpt_4_langchain_docs.ipynb\" target=\"_parent\"><img src=\"https://colab.research.google.com/assets/colab-badge.svg\" alt=\"Open In Colab\"/></a>"
      ]
    },
    {
      "cell_type": "markdown",
      "metadata": {
        "id": "0tlvjjAq3kOD"
      },
      "source": [
        "[![Open In Colab](https://colab.research.google.com/assets/colab-badge.svg)](https://colab.research.google.com/github/pinecone-io/examples/blob/master/generation/gpt4-retrieval-augmentation.ipynb) [![Open nbviewer](https://raw.githubusercontent.com/pinecone-io/examples/master/assets/nbviewer-shield.svg)](https://nbviewer.org/github/pinecone-io/examples/blob/master/generation/gpt4-retrieval-augmentation.ipynb)"
      ]
    },
    {
      "cell_type": "code",
      "execution_count": 1,
      "metadata": {
        "id": "_HDKlQO5svqI",
        "outputId": "262c215a-03f5-4161-ea9d-74e17e168953",
        "colab": {
          "base_uri": "https://localhost:8080/"
        }
      },
      "outputs": [
        {
          "output_type": "stream",
          "name": "stdout",
          "text": [
            "\u001b[?25l     \u001b[90m━━━━━━━━━━━━━━━━━━━━━━━━━━━━━━━━━━━━━━━━\u001b[0m \u001b[32m0.0/1.7 MB\u001b[0m \u001b[31m?\u001b[0m eta \u001b[36m-:--:--\u001b[0m\r\u001b[2K     \u001b[91m━━━━━━━━━━━━━━━━━━━━━━━━━━━━━━━━━━━━━━━\u001b[0m\u001b[91m╸\u001b[0m \u001b[32m1.7/1.7 MB\u001b[0m \u001b[31m103.0 MB/s\u001b[0m eta \u001b[36m0:00:01\u001b[0m\r\u001b[2K     \u001b[90m━━━━━━━━━━━━━━━━━━━━━━━━━━━━━━━━━━━━━━━━\u001b[0m \u001b[32m1.7/1.7 MB\u001b[0m \u001b[31m36.6 MB/s\u001b[0m eta \u001b[36m0:00:00\u001b[0m\n",
            "\u001b[2K     \u001b[90m━━━━━━━━━━━━━━━━━━━━━━━━━━━━━━━━━━━━━━━━\u001b[0m \u001b[32m70.1/70.1 KB\u001b[0m \u001b[31m2.5 MB/s\u001b[0m eta \u001b[36m0:00:00\u001b[0m\n",
            "\u001b[2K     \u001b[90m━━━━━━━━━━━━━━━━━━━━━━━━━━━━━━━━━━━━━━\u001b[0m \u001b[32m424.0/424.0 KB\u001b[0m \u001b[31m23.7 MB/s\u001b[0m eta \u001b[36m0:00:00\u001b[0m\n",
            "\u001b[2K     \u001b[90m━━━━━━━━━━━━━━━━━━━━━━━━━━━━━━━━━━━━━━\u001b[0m \u001b[32m177.2/177.2 KB\u001b[0m \u001b[31m11.7 MB/s\u001b[0m eta \u001b[36m0:00:00\u001b[0m\n",
            "\u001b[2K     \u001b[90m━━━━━━━━━━━━━━━━━━━━━━━━━━━━━━━━━━━━━━━━\u001b[0m \u001b[32m1.0/1.0 MB\u001b[0m \u001b[31m18.2 MB/s\u001b[0m eta \u001b[36m0:00:00\u001b[0m\n",
            "\u001b[2K     \u001b[90m━━━━━━━━━━━━━━━━━━━━━━━━━━━━━━━━━━━━━━━━\u001b[0m \u001b[32m58.3/58.3 KB\u001b[0m \u001b[31m3.4 MB/s\u001b[0m eta \u001b[36m0:00:00\u001b[0m\n",
            "\u001b[2K     \u001b[90m━━━━━━━━━━━━━━━━━━━━━━━━━━━━━━━━━━━━━━\u001b[0m \u001b[32m283.7/283.7 KB\u001b[0m \u001b[31m15.4 MB/s\u001b[0m eta \u001b[36m0:00:00\u001b[0m\n",
            "\u001b[2K     \u001b[90m━━━━━━━━━━━━━━━━━━━━━━━━━━━━━━━━━━━━━━━━\u001b[0m \u001b[32m1.3/1.3 MB\u001b[0m \u001b[31m24.4 MB/s\u001b[0m eta \u001b[36m0:00:00\u001b[0m\n",
            "\u001b[2K     \u001b[90m━━━━━━━━━━━━━━━━━━━━━━━━━━━━━━━━━━━━━━━━\u001b[0m \u001b[32m1.1/1.1 MB\u001b[0m \u001b[31m14.9 MB/s\u001b[0m eta \u001b[36m0:00:00\u001b[0m\n",
            "\u001b[2K     \u001b[90m━━━━━━━━━━━━━━━━━━━━━━━━━━━━━━━━━━━━━━━\u001b[0m \u001b[32m264.6/264.6 KB\u001b[0m \u001b[31m6.1 MB/s\u001b[0m eta \u001b[36m0:00:00\u001b[0m\n",
            "\u001b[2K     \u001b[90m━━━━━━━━━━━━━━━━━━━━━━━━━━━━━━━━━━━━━━━\u001b[0m \u001b[32m158.8/158.8 KB\u001b[0m \u001b[31m4.5 MB/s\u001b[0m eta \u001b[36m0:00:00\u001b[0m\n",
            "\u001b[2K     \u001b[90m━━━━━━━━━━━━━━━━━━━━━━━━━━━━━━━━━━━━━━━\u001b[0m \u001b[32m114.2/114.2 KB\u001b[0m \u001b[31m3.6 MB/s\u001b[0m eta \u001b[36m0:00:00\u001b[0m\n",
            "\u001b[2K     \u001b[90m━━━━━━━━━━━━━━━━━━━━━━━━━━━━━━━━━━━━━━━━\u001b[0m \u001b[32m49.1/49.1 KB\u001b[0m \u001b[31m3.3 MB/s\u001b[0m eta \u001b[36m0:00:00\u001b[0m\n",
            "\u001b[2K     \u001b[90m━━━━━━━━━━━━━━━━━━━━━━━━━━━━━━━━━━━━━━\u001b[0m \u001b[32m223.6/223.6 KB\u001b[0m \u001b[31m17.8 MB/s\u001b[0m eta \u001b[36m0:00:00\u001b[0m\n",
            "\u001b[2K     \u001b[90m━━━━━━━━━━━━━━━━━━━━━━━━━━━━━━━━━━━━━━\u001b[0m \u001b[32m218.0/218.0 KB\u001b[0m \u001b[31m13.9 MB/s\u001b[0m eta \u001b[36m0:00:00\u001b[0m\n",
            "\u001b[2K     \u001b[90m━━━━━━━━━━━━━━━━━━━━━━━━━━━━━━━━━━━━━━\u001b[0m \u001b[32m218.0/218.0 KB\u001b[0m \u001b[31m17.3 MB/s\u001b[0m eta \u001b[36m0:00:00\u001b[0m\n",
            "\u001b[2K     \u001b[90m━━━━━━━━━━━━━━━━━━━━━━━━━━━━━━━━━━━━━━\u001b[0m \u001b[32m211.7/211.7 KB\u001b[0m \u001b[31m12.6 MB/s\u001b[0m eta \u001b[36m0:00:00\u001b[0m\n",
            "\u001b[?25h\u001b[31mERROR: pip's dependency resolver does not currently take into account all the packages that are installed. This behaviour is the source of the following dependency conflicts.\n",
            "tensorflow-hub 0.13.0 requires protobuf>=3.19.6, but you have protobuf 3.19.3 which is incompatible.\n",
            "google-cloud-translate 3.8.4 requires protobuf!=3.20.0,!=3.20.1,!=4.21.0,!=4.21.1,!=4.21.2,!=4.21.3,!=4.21.4,!=4.21.5,<5.0.0dev,>=3.19.5, but you have protobuf 3.19.3 which is incompatible.\n",
            "google-cloud-language 2.6.1 requires protobuf!=3.20.0,!=3.20.1,!=4.21.0,!=4.21.1,!=4.21.2,!=4.21.3,!=4.21.4,!=4.21.5,<5.0.0dev,>=3.19.5, but you have protobuf 3.19.3 which is incompatible.\n",
            "google-cloud-firestore 2.7.3 requires protobuf!=3.20.0,!=3.20.1,!=4.21.0,!=4.21.1,!=4.21.2,!=4.21.3,!=4.21.4,!=4.21.5,<5.0.0dev,>=3.19.5, but you have protobuf 3.19.3 which is incompatible.\n",
            "google-cloud-datastore 2.11.1 requires protobuf!=3.20.0,!=3.20.1,!=4.21.0,!=4.21.1,!=4.21.2,!=4.21.3,!=4.21.4,!=4.21.5,<5.0.0dev,>=3.19.5, but you have protobuf 3.19.3 which is incompatible.\n",
            "google-cloud-bigquery 3.4.2 requires protobuf!=3.20.0,!=3.20.1,!=4.21.0,!=4.21.1,!=4.21.2,!=4.21.3,!=4.21.4,!=4.21.5,<5.0.0dev,>=3.19.5, but you have protobuf 3.19.3 which is incompatible.\n",
            "google-cloud-bigquery-storage 2.19.0 requires protobuf!=3.20.0,!=3.20.1,!=4.21.0,!=4.21.1,!=4.21.2,!=4.21.3,!=4.21.4,!=4.21.5,<5.0.0dev,>=3.19.5, but you have protobuf 3.19.3 which is incompatible.\n",
            "google-api-core 2.11.0 requires protobuf!=3.20.0,!=3.20.1,!=4.21.0,!=4.21.1,!=4.21.2,!=4.21.3,!=4.21.4,!=4.21.5,<5.0.0dev,>=3.19.5, but you have protobuf 3.19.3 which is incompatible.\u001b[0m\u001b[31m\n",
            "\u001b[0m"
          ]
        }
      ],
      "source": [
        "!pip install -qU bs4 tiktoken openai langchain pinecone-client[grpc]"
      ]
    },
    {
      "cell_type": "code",
      "execution_count": 3,
      "metadata": {
        "id": "xo9gYhGPr_DQ",
        "outputId": "f3d229a6-eb45-4f5a-ff22-fe81f2bbffec",
        "colab": {
          "base_uri": "https://localhost:8080/"
        }
      },
      "outputs": [
        {
          "output_type": "execute_result",
          "data": {
            "text/plain": [
              "<Response [200]>"
            ]
          },
          "metadata": {},
          "execution_count": 3
        }
      ],
      "source": [
        "import requests\n",
        "\n",
        "res = requests.get(\"https://langchain.readthedocs.io/en/latest/\")\n",
        "res"
      ]
    },
    {
      "cell_type": "code",
      "execution_count": 4,
      "metadata": {
        "id": "n40_0MtlsKgM",
        "outputId": "280a4205-cc46-494c-ab04-eaac5546bff0",
        "colab": {
          "base_uri": "https://localhost:8080/"
        }
      },
      "outputs": [
        {
          "output_type": "stream",
          "name": "stdout",
          "text": [
            ".rst .pdf Welcome to LangChain Contents Getting Started Modules Use Cases Reference Docs LangChain Ecosystem Additional Resources Welcome to LangChain# Large language models (LLMs) are emerging as a transformative technology, enabling developers to build applications that they previously could not. But using these LLMs in isolation is often not enough to create a truly powerful app - the real power comes when you are able to combine them with other sources of computation or knowledge. This library is aimed at assisting in the development of those types of applications. Common examples of these types of applications include: ❓ Question Answering over specific documents Documentation End-to-end Example: Question Answering over Notion Database 💬 Chatbots Documentation End-to-end Example: Chat-LangChain 🤖 Agents Documentation End-to-end Example: GPT+WolframAlpha Getting Started# Checkout the below guide for a walkthrough of how to get started using LangChain to create an Language Model application. Getting Started Documentation Modules# There are several main modules that LangChain provides support for. For each module we provide some examples to get started, how-to guides, reference docs, and conceptual guides. These modules are, in increasing order of complexity: Prompts: This includes prompt management, prompt optimization, and prompt serialization. LLMs: This includes a generic interface for all LLMs, and common utilities for working with LLMs. Document Loaders: This includes a standard interface for loading documents, as well as specific integrations to all types of text data sources. Utils: Language models are often more powerful when interacting with other sources of knowledge or computation. This can include Python REPLs, embeddings, search engines, and more. LangChain provides a large collection of common utils to use in your application. Chains: Chains go beyond just a single LLM call, and are sequences of calls (whether to an LLM or a different utility). LangChain provides a standard interface for chains, lots of integrations with other tools, and end-to-end chains for common applications. Indexes: Language models are often more powerful when combined with your own text data - this module covers best practices for doing exactly that. Agents: Agents involve an LLM making decisions about which Actions to take, taking that Action, seeing an Observation, and repeating that until done. LangChain provides a standard interface for agents, a selection of agents to choose from, and examples of end to end agents. Memory: Memory is the concept of persisting state between calls of a chain/agent. LangChain provides a standard interface for memory, a collection of memory implementations, and examples of chains/agents that use memory. Chat: Chat models are a variation on Language Models that expose a different API - rather than working with raw text, they work with messages. LangChain provides a standard interface for working with them and doing all the same things as above. Use Cases# The above modules can be used in a variety of ways. LangChain also provides guidance and assistance in this. Below are some of the common use cases LangChain supports. Agents: Agents are systems that use a language model to interact with other tools. These can be used to do more grounded question/answering, interact with APIs, or even take actions. Chatbots: Since language models are good at producing text, that makes them ideal for creating chatbots. Data Augmented Generation: Data Augmented Generation involves specific types of chains that first interact with an external datasource to fetch data to use in the generation step. Examples of this include summarization of long pieces of text and question/answering over specific data sources. Question Answering: Answering questions over specific documents, only utilizing the information in those documents to construct an answer. A type of Data Augmented Generation. Summarization: Summarizing longer documents into shorter, more condensed chunks of information. A type of Data Augmented Generation. Querying Tabular Data: If you want to understand how to use LLMs to query data that is stored in a tabular format (csvs, SQL, dataframes, etc) you should read this page. Evaluation: Generative models are notoriously hard to evaluate with traditional metrics. One new way of evaluating them is using language models themselves to do the evaluation. LangChain provides some prompts/chains for assisting in this. Generate similar examples: Generating similar examples to a given input. This is a common use case for many applications, and LangChain provides some prompts/chains for assisting in this. Compare models: Experimenting with different prompts, models, and chains is a big part of developing the best possible application. The ModelLaboratory makes it easy to do so. Reference Docs# All of LangChain’s reference documentation, in one place. Full documentation on all methods, classes, installation methods, and integration setups for LangChain. Reference Documentation LangChain Ecosystem# Guides for how other companies/products can be used with LangChain LangChain Ecosystem Additional Resources# Additional collection of resources we think may be useful as you develop your application! LangChainHub: The LangChainHub is a place to share and explore other prompts, chains, and agents. Glossary: A glossary of all related terms, papers, methods, etc. Whether implemented in LangChain or not! Gallery: A collection of our favorite projects that use LangChain. Useful for finding inspiration or seeing how things were done in other applications. Deployments: A collection of instructions, code snippets, and template repositories for deploying LangChain apps. Discord: Join us on our Discord to discuss all things LangChain! Tracing: A guide on using tracing in LangChain to visualize the execution of chains and agents. Production Support: As you move your LangChains into production, we’d love to offer more comprehensive support. Please fill out this form and we’ll set up a dedicated support Slack channel. next Quickstart Guide Contents Getting Started Modules Use Cases Reference Docs LangChain Ecosystem Additional Resources By Harrison Chase © Copyright 2023, Harrison Chase. Last updated on Mar 23, 2023.\n"
          ]
        }
      ],
      "source": [
        "from bs4 import BeautifulSoup\n",
        "import urllib.parse\n",
        "import html\n",
        "import re\n",
        "\n",
        "domain = \"https://langchain.readthedocs.io/\"\n",
        "domain_full = domain+\"en/latest/\"\n",
        "\n",
        "soup = BeautifulSoup(res.text, 'html.parser')\n",
        "\n",
        "# Find all links to local pages on the website\n",
        "local_links = []\n",
        "for link in soup.find_all('a', href=True):\n",
        "    href = link['href']\n",
        "    if href.startswith(domain) or href.startswith('./') \\\n",
        "        or href.startswith('/') or href.startswith('modules') \\\n",
        "        or href.startswith('use_cases'):\n",
        "        local_links.append(urllib.parse.urljoin(domain_full, href))\n",
        "\n",
        "# Find the main content using CSS selectors\n",
        "main_content = soup.select('body main')[0]\n",
        "\n",
        "# Extract the HTML code of the main content\n",
        "main_content_html = str(main_content)\n",
        "\n",
        "# Extract the plaintext of the main content\n",
        "main_content_text = main_content.get_text()\n",
        "\n",
        "# Remove all HTML tags\n",
        "main_content_text = re.sub(r'<[^>]+>', '', main_content_text)\n",
        "\n",
        "# Remove extra white space\n",
        "main_content_text = ' '.join(main_content_text.split())\n",
        "\n",
        "# Replace HTML entities with their corresponding characters\n",
        "main_content_text = html.unescape(main_content_text)\n",
        "\n",
        "print(main_content_text)"
      ]
    },
    {
      "cell_type": "code",
      "execution_count": 5,
      "metadata": {
        "id": "OcIkny_6xiZJ"
      },
      "outputs": [],
      "source": [
        "def scrape(url: str):\n",
        "    res = requests.get(url)\n",
        "    if res.status_code != 200:\n",
        "        print(f\"{res.status_code} for '{url}'\")\n",
        "        return None\n",
        "    soup = BeautifulSoup(res.text, 'html.parser')\n",
        "\n",
        "    # Find all links to local pages on the website\n",
        "    local_links = []\n",
        "    for link in soup.find_all('a', href=True):\n",
        "        href = link['href']\n",
        "        if href.startswith(domain) or href.startswith('./') \\\n",
        "            or href.startswith('/') or href.startswith('modules') \\\n",
        "            or href.startswith('use_cases'):\n",
        "            local_links.append(urllib.parse.urljoin(domain_full, href))\n",
        "\n",
        "    # Find the main content using CSS selectors\n",
        "    main_content = soup.select('body main')[0]\n",
        "\n",
        "    # Extract the HTML code of the main content\n",
        "    main_content_html = str(main_content)\n",
        "\n",
        "    # Extract the plaintext of the main content\n",
        "    main_content_text = main_content.get_text()\n",
        "\n",
        "    # Remove all HTML tags\n",
        "    main_content_text = re.sub(r'<[^>]+>', '', main_content_text)\n",
        "\n",
        "    # Remove extra white space\n",
        "    main_content_text = ' '.join(main_content_text.split())\n",
        "\n",
        "    # Replace HTML entities with their corresponding characters\n",
        "    main_content_text = html.unescape(main_content_text)\n",
        "\n",
        "    # return as json\n",
        "    return {\n",
        "        \"url\": url,\n",
        "        \"text\": main_content_text\n",
        "    }, local_links"
      ]
    },
    {
      "cell_type": "code",
      "execution_count": 6,
      "metadata": {
        "id": "NGUGao9_uNH3",
        "outputId": "889a7675-12de-4a2e-c4b1-b4e6ce381fa7",
        "colab": {
          "base_uri": "https://localhost:8080/"
        }
      },
      "outputs": [
        {
          "output_type": "stream",
          "name": "stdout",
          "text": [
            "https://langchain.readthedocs.io/en/latest/\n",
            "https://langchain.readthedocs.io/en/latest/modules/chains/getting_started.html\n",
            "https://langchain.readthedocs.io/en/latest/modules/agents/examples/sharedmemory_for_tools.html\n",
            "https://langchain.readthedocs.io/en/latest/modules/memory/examples/agent_with_memory.html\n",
            "https://langchain.readthedocs.io/en/latest/modules/document_loaders/examples/web_base.html\n",
            "https://langchain.readthedocs.io/en/latest/modules/prompts/key_concepts.html\n",
            "https://langchain.readthedocs.io/en/latest/modules/memory/examples/custom_memory.html\n",
            "https://langchain.readthedocs.io/en/latest/modules/chains/examples/llm_summarization_checker.html\n",
            "https://langchain.readthedocs.io/en/latest/use_cases/evaluation/qa_benchmarking_pg.html\n",
            "https://langchain.readthedocs.io/en/latest/modules/llms/async_llm.html\n",
            "https://langchain.readthedocs.io/en/latest/modules/document_loaders/examples/readthedocs_documentation.html\n",
            "https://langchain.readthedocs.io/en/latest/modules/indexes/chain_examples/graph_qa.html\n",
            "https://langchain.readthedocs.io/en/latest/modules/memory/examples/adding_memory.html\n",
            "https://langchain.readthedocs.io/en/latest/modules/document_loaders/examples/srt.html\n",
            "https://langchain.readthedocs.io/en/latest/use_cases/evaluation/agent_vectordb_sota_pg.html\n",
            "https://langchain.readthedocs.io/en/latest/modules/agents/implementations/self_ask_with_search.html\n",
            "https://langchain.readthedocs.io/en/latest/modules/chat/examples/agent.html\n",
            "https://langchain.readthedocs.io/en/latest/modules/chains.html\n",
            "https://langchain.readthedocs.io/en/latest/modules/memory/examples/conversational_agent.html\n",
            "https://langchain.readthedocs.io/en/latest/modules/llms/examples/llm_caching.html\n",
            "https://langchain.readthedocs.io/en/latest/modules/document_loaders/examples/notion.html\n",
            "https://langchain.readthedocs.io/en/latest/modules/indexes/chain_examples/summarize.html\n",
            "https://langchain.readthedocs.io/en/latest/modules/utils/how_to_guides.html\n",
            "https://langchain.readthedocs.io/en/latest/examples/searx_search.html\n",
            "404 for 'https://langchain.readthedocs.io/en/latest/examples/searx_search.html'\n",
            "https://langchain.readthedocs.io/en/latest/modules/chains/generic/llm_chain.html\n",
            "https://langchain.readthedocs.io/en/latest/examples/requests.html\n",
            "404 for 'https://langchain.readthedocs.io/en/latest/examples/requests.html'\n",
            "https://langchain.readthedocs.io/en/latest/modules/document_loaders/examples/college_confidential.html\n",
            "https://langchain.readthedocs.io/en/latest/modules/document_loaders/examples/url.html\n",
            "https://langchain.readthedocs.io/en/latest/use_cases/evaluation/benchmarking_template.html\n",
            "https://langchain.readthedocs.io/en/latest/modules/document_loaders/examples/googledrive.html\n",
            "https://langchain.readthedocs.io/en/latest/modules/indexes/examples/hyde.html\n",
            "https://langchain.readthedocs.io/en/latest/modules/document_loaders/examples/gcs_directory.html\n",
            "https://langchain.readthedocs.io/en/latest/use_cases/evaluation/agent_benchmarking.html\n",
            "https://langchain.readthedocs.io/en/latest/modules/chains/utility_how_to.html\n",
            "https://langchain.readthedocs.io/en/latest/modules/document_loaders/examples/word_document.html\n",
            "https://langchain.readthedocs.io/en/latest/getting_started/getting_started.html\n",
            "https://langchain.readthedocs.io/en/latest/modules/chains/examples/moderation.html\n",
            "https://langchain.readthedocs.io/en/latest/modules/memory/examples/multiple_memory.html\n",
            "https://langchain.readthedocs.io/en/latest/modules/llms/integrations/deepinfra_example.html\n",
            "https://langchain.readthedocs.io/en/latest/modules/agents/examples/multi_input_tool.html\n",
            "https://langchain.readthedocs.io/en/latest/modules/document_loaders/examples/roam.html\n",
            "https://langchain.readthedocs.io/en/latest/modules/llms/integrations.html\n",
            "https://langchain.readthedocs.io/en/latest/integrations/cerebriumai_example.html\n",
            "404 for 'https://langchain.readthedocs.io/en/latest/integrations/cerebriumai_example.html'\n",
            "https://langchain.readthedocs.io/en/latest/integrations/deepinfra_example.html\n",
            "404 for 'https://langchain.readthedocs.io/en/latest/integrations/deepinfra_example.html'\n",
            "https://langchain.readthedocs.io/en/latest/integrations/forefrontai_example.html\n",
            "404 for 'https://langchain.readthedocs.io/en/latest/integrations/forefrontai_example.html'\n",
            "https://langchain.readthedocs.io/en/latest/use_cases/evaluation/llm_math.html\n",
            "https://langchain.readthedocs.io/en/latest/modules/llms/examples/fake_llm.html\n",
            "https://langchain.readthedocs.io/en/latest/modules/document_loaders/examples/directory_loader.html\n",
            "https://langchain.readthedocs.io/en/latest/integrations/manifest.html\n",
            "404 for 'https://langchain.readthedocs.io/en/latest/integrations/manifest.html'\n",
            "https://langchain.readthedocs.io/en/latest/modules/indexes/chain_examples/vector_db_qa.html\n",
            "https://langchain.readthedocs.io/en/latest/modules/document_loaders/examples/markdown.html\n",
            "https://langchain.readthedocs.io/en/latest/modules/llms/examples/custom_llm.html\n",
            "https://langchain.readthedocs.io/en/latest/modules/llms/integrations/stochasticai.html\n",
            "https://langchain.readthedocs.io/en/latest/modules/document_loaders/examples/csv.html\n",
            "https://langchain.readthedocs.io/en/latest/modules/document_loaders/examples/s3_file.html\n",
            "https://langchain.readthedocs.io/en/latest/modules/agents/examples/max_iterations.html\n",
            "https://langchain.readthedocs.io/en/latest/modules/indexes/vectorstore_examples/deeplake.html\n",
            "https://langchain.readthedocs.io/en/latest/modules/utils/examples/google_serper.html\n",
            "https://langchain.readthedocs.io/en/latest/modules/agents/key_concepts.html\n",
            "https://langchain.readthedocs.io/en/latest/modules/agents/examples/chat_conversation_agent.html\n",
            "https://langchain.readthedocs.io/en/latest/modules/utils/examples/google_search.html\n",
            "https://langchain.readthedocs.io/en/latest/modules/indexes/vectorstore_examples/atlas.html\n",
            "https://langchain.readthedocs.io/en/latest/modules/document_loaders/examples/powerpoint.html\n",
            "https://langchain.readthedocs.io/en/latest/modules/document_loaders/examples/s3_directory.html\n",
            "https://langchain.readthedocs.io/en/latest/examples/wolfram_alpha.html\n",
            "404 for 'https://langchain.readthedocs.io/en/latest/examples/wolfram_alpha.html'\n",
            "https://langchain.readthedocs.io/en/latest/modules/document_loaders/examples/unstructured_file.html\n",
            "https://langchain.readthedocs.io/en/latest/modules/document_loaders/examples/evernote.html\n",
            "https://langchain.readthedocs.io/en/latest/modules/memory/types/summary.html\n",
            "https://langchain.readthedocs.io/en/latest/modules/utils/key_concepts.html\n",
            "https://langchain.readthedocs.io/en/latest/modules/llms/integrations/openai.html\n",
            "https://langchain.readthedocs.io/en/latest/modules/indexes/chain_examples/qa_with_sources.html\n",
            "https://langchain.readthedocs.io/en/latest/modules/utils/examples/searx_search.html\n",
            "https://langchain.readthedocs.io/en/latest/modules/document_loaders/examples/airbyte_json.html\n",
            "https://langchain.readthedocs.io/en/latest/modules/agents/agent_toolkits/json.html\n",
            "https://langchain.readthedocs.io/en/latest/modules/llms/integrations/modal.html\n",
            "https://langchain.readthedocs.io/en/latest/use_cases/question_answering.html\n",
            "https://langchain.readthedocs.io/en/latest/examples/serpapi.html\n",
            "404 for 'https://langchain.readthedocs.io/en/latest/examples/serpapi.html'\n",
            "https://langchain.readthedocs.io/en/latest/modules/document_loaders.html\n",
            "https://langchain.readthedocs.io/en/latest/document_loaders/key_concepts.html\n",
            "404 for 'https://langchain.readthedocs.io/en/latest/document_loaders/key_concepts.html'\n",
            "https://langchain.readthedocs.io/en/latest/modules/agents/getting_started.html\n",
            "https://langchain.readthedocs.io/en/latest/modules/memory/types/entity_summary_memory.html\n",
            "https://langchain.readthedocs.io/en/latest/modules/utils/examples/bing_search.html\n",
            "https://langchain.readthedocs.io/en/latest/modules/document_loaders/examples/youtube.html\n",
            "https://langchain.readthedocs.io/en/latest/modules/chains/how_to_guides.html\n",
            "https://langchain.readthedocs.io/en/latest/modules/chat/examples/few_shot_examples.html\n",
            "https://langchain.readthedocs.io/en/latest/modules/agents/agent_toolkits/pandas.html\n",
            "https://langchain.readthedocs.io/en/latest/use_cases/evaluation/question_answering.html\n",
            "https://langchain.readthedocs.io/en/latest/integrations/modal.html\n",
            "404 for 'https://langchain.readthedocs.io/en/latest/integrations/modal.html'\n",
            "https://langchain.readthedocs.io/en/latest/use_cases/evaluation/sql_qa_benchmarking_chinook.html\n",
            "https://langchain.readthedocs.io/en/latest/modules/llms/how_to_guides.html\n",
            "https://langchain.readthedocs.io/en/latest/modules/chains/examples/api.html\n",
            "https://langchain.readthedocs.io/en/latest/use_cases/model_laboratory.html\n",
            "https://langchain.readthedocs.io/en/latest/integrations/self_hosted_examples.html\n",
            "404 for 'https://langchain.readthedocs.io/en/latest/integrations/self_hosted_examples.html'\n",
            "https://langchain.readthedocs.io/en/latest/examples/sqlite.html\n",
            "404 for 'https://langchain.readthedocs.io/en/latest/examples/sqlite.html'\n",
            "https://langchain.readthedocs.io/en/latest/modules/prompts/getting_started.html\n",
            "https://langchain.readthedocs.io/en/latest/modules/utils/examples/zapier.html\n",
            "https://langchain.readthedocs.io/en/latest/modules/utils.html\n",
            "https://langchain.readthedocs.io/en/latest/utils/key_concepts.html\n",
            "404 for 'https://langchain.readthedocs.io/en/latest/utils/key_concepts.html'\n",
            "https://langchain.readthedocs.io/en/latest/modules/agents/implementations/react.html\n",
            "https://langchain.readthedocs.io/en/latest/modules/llms/integrations/sagemaker.html\n",
            "https://langchain.readthedocs.io/en/latest/modules/llms/integrations/forefrontai_example.html\n",
            "https://langchain.readthedocs.io/en/latest/modules/indexes/vectorstore_examples/pgvector.html\n",
            "https://langchain.readthedocs.io/en/latest/modules/llms/key_concepts.html\n",
            "https://langchain.readthedocs.io/en/latest/modules/indexes/chain_examples/vector_db_qa_with_sources.html\n",
            "https://langchain.readthedocs.io/en/latest/modules/chains/generic/serialization.html\n",
            "https://langchain.readthedocs.io/en/latest/modules/chat/examples/vector_db_qa_with_sources.html\n",
            "https://langchain.readthedocs.io/en/latest/integrations/azure_openai_example.html\n",
            "404 for 'https://langchain.readthedocs.io/en/latest/integrations/azure_openai_example.html'\n",
            "https://langchain.readthedocs.io/en/latest/modules/chains/examples/llm_checker.html\n",
            "https://langchain.readthedocs.io/en/latest/modules/llms/examples/token_usage_tracking.html\n",
            "https://langchain.readthedocs.io/en/latest/integrations/gooseai_example.html\n",
            "404 for 'https://langchain.readthedocs.io/en/latest/integrations/gooseai_example.html'\n",
            "https://langchain.readthedocs.io/en/latest/modules/llms/integrations/anthropic_example.html\n",
            "https://langchain.readthedocs.io/en/latest/modules/llms/integrations/manifest.html\n",
            "https://langchain.readthedocs.io/en/latest/modules/llms/examples/llm_serialization.html\n",
            "https://langchain.readthedocs.io/en/latest/modules/prompts/examples/example_selectors.html\n",
            "https://langchain.readthedocs.io/en/latest/deployments.html\n",
            "https://langchain.readthedocs.io/en/latest/integrations/cohere.html\n",
            "404 for 'https://langchain.readthedocs.io/en/latest/integrations/cohere.html'\n",
            "https://langchain.readthedocs.io/en/latest/modules/prompts.html\n",
            "https://langchain.readthedocs.io/en/latest/prompts/how_to_guides.html\n",
            "404 for 'https://langchain.readthedocs.io/en/latest/prompts/how_to_guides.html'\n",
            "https://langchain.readthedocs.io/en/latest/modules/utils/examples/requests.html\n",
            "https://langchain.readthedocs.io/en/latest/modules/document_loaders/examples/CoNLL-U.html\n",
            "https://langchain.readthedocs.io/en/latest/modules/chat/examples/vector_db_qa.html\n",
            "https://langchain.readthedocs.io/en/latest/modules/indexes/vectorstore_examples/faiss.html\n",
            "https://langchain.readthedocs.io/en/latest/modules/llms/integrations/gooseai_example.html\n",
            "https://langchain.readthedocs.io/en/latest/modules/indexes/how_to_guides.html\n",
            "https://langchain.readthedocs.io/en/latest/chain_examples/qa_with_sources.html\n",
            "404 for 'https://langchain.readthedocs.io/en/latest/chain_examples/qa_with_sources.html'\n",
            "https://langchain.readthedocs.io/en/latest/chain_examples/chat_vector_db.html\n",
            "404 for 'https://langchain.readthedocs.io/en/latest/chain_examples/chat_vector_db.html'\n",
            "https://langchain.readthedocs.io/en/latest/vectorstore_examples/deeplake.html\n",
            "404 for 'https://langchain.readthedocs.io/en/latest/vectorstore_examples/deeplake.html'\n",
            "https://langchain.readthedocs.io/en/latest/chain_examples/question_answering.html\n",
            "404 for 'https://langchain.readthedocs.io/en/latest/chain_examples/question_answering.html'\n",
            "https://langchain.readthedocs.io/en/latest/vectorstore_examples/elasticsearch.html\n",
            "404 for 'https://langchain.readthedocs.io/en/latest/vectorstore_examples/elasticsearch.html'\n",
            "https://langchain.readthedocs.io/en/latest/use_cases/evaluation/data_augmented_question_answering.html\n",
            "https://langchain.readthedocs.io/en/latest/modules/llms/integrations/banana.html\n",
            "https://langchain.readthedocs.io/en/latest/modules/prompts/examples/custom_prompt_template.html\n",
            "https://langchain.readthedocs.io/en/latest/modules/chat/examples/memory.html\n",
            "https://langchain.readthedocs.io/en/latest/examples/hyde.html\n",
            "404 for 'https://langchain.readthedocs.io/en/latest/examples/hyde.html'\n",
            "https://langchain.readthedocs.io/en/latest/modules/indexes/vectorstore_examples/opensearch.html\n",
            "https://langchain.readthedocs.io/en/latest/streaming_llm.html\n",
            "404 for 'https://langchain.readthedocs.io/en/latest/streaming_llm.html'\n",
            "https://langchain.readthedocs.io/en/latest/tracing.html\n",
            "https://langchain.readthedocs.io/en/latest/modules/llms/integrations/aleph_alpha.html\n",
            "https://langchain.readthedocs.io/en/latest/modules/llms/getting_started.html\n",
            "https://langchain.readthedocs.io/en/latest/modules/utils/examples/python.html\n",
            "https://langchain.readthedocs.io/en/latest/modules/document_loaders/examples/obsidian.html\n",
            "https://langchain.readthedocs.io/en/latest/modules/utils/examples/ifttt.html\n",
            "https://langchain.readthedocs.io/en/latest/modules/chat/examples/streaming.html\n",
            "https://langchain.readthedocs.io/en/latest/utility_how_to.html\n",
            "404 for 'https://langchain.readthedocs.io/en/latest/utility_how_to.html'\n",
            "https://langchain.readthedocs.io/en/latest/modules/llms/integrations/ai21.html\n",
            "https://langchain.readthedocs.io/en/latest/modules/prompts/examples/prompt_serialization.html\n",
            "https://langchain.readthedocs.io/en/latest/async_llm.html\n",
            "404 for 'https://langchain.readthedocs.io/en/latest/async_llm.html'\n",
            "https://langchain.readthedocs.io/en/latest/reference.html\n",
            "https://langchain.readthedocs.io/en/latest/modules/indexes/chain_examples/chat_vector_db.html\n",
            "https://langchain.readthedocs.io/en/latest/use_cases/summarization.html\n",
            "https://langchain.readthedocs.io/en/latest/utils/how_to_guides.html\n",
            "404 for 'https://langchain.readthedocs.io/en/latest/utils/how_to_guides.html'\n",
            "https://langchain.readthedocs.io/en/latest/modules/chat/getting_started.html\n",
            "https://langchain.readthedocs.io/en/latest/modules/agents/agent_toolkits/sql_database.html\n",
            "https://langchain.readthedocs.io/en/latest/modules/memory/key_concepts.html\n",
            "https://langchain.readthedocs.io/en/latest/vectorstore_examples/faiss.html\n",
            "404 for 'https://langchain.readthedocs.io/en/latest/vectorstore_examples/faiss.html'\n",
            "https://langchain.readthedocs.io/en/latest/vectorstore_examples/weaviate.html\n",
            "404 for 'https://langchain.readthedocs.io/en/latest/vectorstore_examples/weaviate.html'\n",
            "https://langchain.readthedocs.io/en/latest/modules/indexes/vectorstore_examples/pinecone.html\n",
            "https://langchain.readthedocs.io/en/latest/modules/memory/getting_started.html\n",
            "https://langchain.readthedocs.io/en/latest/generic/from_hub.html\n",
            "404 for 'https://langchain.readthedocs.io/en/latest/generic/from_hub.html'\n",
            "https://langchain.readthedocs.io/en/latest/vectorstore_examples/chroma.html\n",
            "404 for 'https://langchain.readthedocs.io/en/latest/vectorstore_examples/chroma.html'\n",
            "https://langchain.readthedocs.io/en/latest/document_loaders/how_to_guides.html\n",
            "404 for 'https://langchain.readthedocs.io/en/latest/document_loaders/how_to_guides.html'\n",
            "https://langchain.readthedocs.io/en/latest/modules/llms.html\n",
            "https://langchain.readthedocs.io/en/latest/llms/key_concepts.html\n",
            "404 for 'https://langchain.readthedocs.io/en/latest/llms/key_concepts.html'\n",
            "https://langchain.readthedocs.io/en/latest/llms/getting_started.html\n",
            "404 for 'https://langchain.readthedocs.io/en/latest/llms/getting_started.html'\n",
            "https://langchain.readthedocs.io/en/latest/llms/how_to_guides.html\n",
            "404 for 'https://langchain.readthedocs.io/en/latest/llms/how_to_guides.html'\n",
            "https://langchain.readthedocs.io/en/latest/modules/llms/integrations/self_hosted_examples.html\n",
            "https://langchain.readthedocs.io/en/latest/modules/agents/examples/custom_agent.html\n",
            "https://langchain.readthedocs.io/en/latest/modules/document_loaders/examples/gcs_file.html\n",
            "https://langchain.readthedocs.io/en/latest/modules/indexes/examples/textsplitter.html\n",
            "https://langchain.readthedocs.io/en/latest/use_cases/generate_examples.html\n",
            "https://langchain.readthedocs.io/en/latest/modules/document_loaders/examples/ifixit.html\n",
            "https://langchain.readthedocs.io/en/latest/modules/llms/generic_how_to.html\n",
            "https://langchain.readthedocs.io/en/latest/examples/fake_llm.html\n",
            "404 for 'https://langchain.readthedocs.io/en/latest/examples/fake_llm.html'\n",
            "https://langchain.readthedocs.io/en/latest/examples/llm_caching.html\n",
            "404 for 'https://langchain.readthedocs.io/en/latest/examples/llm_caching.html'\n",
            "https://langchain.readthedocs.io/en/latest/integrations/openai.html\n",
            "404 for 'https://langchain.readthedocs.io/en/latest/integrations/openai.html'\n",
            "https://langchain.readthedocs.io/en/latest/prompts/getting_started.html\n",
            "404 for 'https://langchain.readthedocs.io/en/latest/prompts/getting_started.html'\n",
            "https://langchain.readthedocs.io/en/latest/use_cases/chatbots.html\n",
            "https://langchain.readthedocs.io/en/latest/integrations.html\n",
            "404 for 'https://langchain.readthedocs.io/en/latest/integrations.html'\n",
            "https://langchain.readthedocs.io/en/latest/modules/memory/types/kg.html\n",
            "https://langchain.readthedocs.io/en/latest/modules/chat.html\n",
            "https://langchain.readthedocs.io/en/latest/chain_examples/vector_db_qa.html\n",
            "404 for 'https://langchain.readthedocs.io/en/latest/chain_examples/vector_db_qa.html'\n",
            "https://langchain.readthedocs.io/en/latest/modules/agents/examples/human_tools.html\n",
            "https://langchain.readthedocs.io/en/latest/modules/chains/generic/from_hub.html\n",
            "https://langchain.readthedocs.io/en/latest/modules/chains/examples/llm_bash.html\n",
            "https://langchain.readthedocs.io/en/latest/modules/agents/examples/custom_tools.html\n",
            "https://langchain.readthedocs.io/en/latest/modules/document_loaders/examples/notebook.html\n",
            "https://langchain.readthedocs.io/en/latest/modules/agents/examples/load_from_hub.html\n",
            "https://langchain.readthedocs.io/en/latest/modules/indexes/examples/vectorstores.html\n",
            "https://langchain.readthedocs.io/en/latest/examples/llm_checker.html\n",
            "404 for 'https://langchain.readthedocs.io/en/latest/examples/llm_checker.html'\n",
            "https://langchain.readthedocs.io/en/latest/modules/prompts/examples/few_shot_examples.html\n",
            "https://langchain.readthedocs.io/en/latest/modules/chat/examples/promptlayer_chatopenai.html\n",
            "https://langchain.readthedocs.io/en/latest/modules/agents/examples/serialization.html\n",
            "https://langchain.readthedocs.io/en/latest/integrations/banana.html\n",
            "404 for 'https://langchain.readthedocs.io/en/latest/integrations/banana.html'\n",
            "https://langchain.readthedocs.io/en/latest/modules/indexes/vectorstore_examples/redis.html\n",
            "https://langchain.readthedocs.io/en/latest/vectorstore_examples/opensearch.html\n",
            "404 for 'https://langchain.readthedocs.io/en/latest/vectorstore_examples/opensearch.html'\n",
            "https://langchain.readthedocs.io/en/latest/use_cases/tabular.html\n",
            "https://langchain.readthedocs.io/en/latest/vectorstore_examples/atlas.html\n",
            "404 for 'https://langchain.readthedocs.io/en/latest/vectorstore_examples/atlas.html'\n",
            "https://langchain.readthedocs.io/en/latest/modules/chains/generic_how_to.html\n",
            "https://langchain.readthedocs.io/en/latest/generic/transformation.html\n",
            "404 for 'https://langchain.readthedocs.io/en/latest/generic/transformation.html'\n",
            "https://langchain.readthedocs.io/en/latest/generic/sequential_chains.html\n",
            "404 for 'https://langchain.readthedocs.io/en/latest/generic/sequential_chains.html'\n",
            "https://langchain.readthedocs.io/en/latest/examples/vectorstores.html\n",
            "404 for 'https://langchain.readthedocs.io/en/latest/examples/vectorstores.html'\n",
            "https://langchain.readthedocs.io/en/latest/modules/agents.html\n",
            "https://langchain.readthedocs.io/en/latest/agents/how_to_guides.html\n",
            "404 for 'https://langchain.readthedocs.io/en/latest/agents/how_to_guides.html'\n",
            "https://langchain.readthedocs.io/en/latest/agents/getting_started.html\n",
            "404 for 'https://langchain.readthedocs.io/en/latest/agents/getting_started.html'\n",
            "https://langchain.readthedocs.io/en/latest/agents/key_concepts.html\n",
            "404 for 'https://langchain.readthedocs.io/en/latest/agents/key_concepts.html'\n",
            "https://langchain.readthedocs.io/en/latest/integrations/stochasticai.html\n",
            "404 for 'https://langchain.readthedocs.io/en/latest/integrations/stochasticai.html'\n",
            "https://langchain.readthedocs.io/en/latest/examples/api.html\n",
            "404 for 'https://langchain.readthedocs.io/en/latest/examples/api.html'\n",
            "https://langchain.readthedocs.io/en/latest/async_chain.html\n",
            "404 for 'https://langchain.readthedocs.io/en/latest/async_chain.html'\n",
            "https://langchain.readthedocs.io/en/latest/use_cases/evaluation/huggingface_datasets.html\n",
            "https://langchain.readthedocs.io/en/latest/modules/indexes/key_concepts.html\n",
            "https://langchain.readthedocs.io/en/latest/modules/indexes/chain_examples/analyze_document.html\n",
            "https://langchain.readthedocs.io/en/latest/prompts/key_concepts.html\n",
            "404 for 'https://langchain.readthedocs.io/en/latest/prompts/key_concepts.html'\n",
            "https://langchain.readthedocs.io/en/latest/integrations/promptlayer_openai.html\n",
            "404 for 'https://langchain.readthedocs.io/en/latest/integrations/promptlayer_openai.html'\n",
            "https://langchain.readthedocs.io/en/latest/modules/document_loaders/examples/imsdb.html\n",
            "https://langchain.readthedocs.io/en/latest/modules/memory/types/buffer.html\n",
            "https://langchain.readthedocs.io/en/latest/use_cases/extraction.html\n",
            "https://langchain.readthedocs.io/en/latest/modules/indexes/vectorstore_examples/chroma.html\n",
            "https://langchain.readthedocs.io/en/latest/modules/llms/integrations/cerebriumai_example.html\n",
            "https://langchain.readthedocs.io/en/latest/modules/chains/examples/llm_math.html\n",
            "https://langchain.readthedocs.io/en/latest/modules/indexes/examples/embeddings.html\n",
            "https://langchain.readthedocs.io/en/latest/modules/memory/examples/conversational_customization.html\n",
            "https://langchain.readthedocs.io/en/latest/modules/document_loaders/how_to_guides.html\n",
            "https://langchain.readthedocs.io/en/latest/examples/facebook_chat.html\n",
            "404 for 'https://langchain.readthedocs.io/en/latest/examples/facebook_chat.html'\n",
            "https://langchain.readthedocs.io/en/latest/examples/powerpoint.html\n",
            "404 for 'https://langchain.readthedocs.io/en/latest/examples/powerpoint.html'\n",
            "https://langchain.readthedocs.io/en/latest/examples/gcs_directory.html\n",
            "404 for 'https://langchain.readthedocs.io/en/latest/examples/gcs_directory.html'\n",
            "https://langchain.readthedocs.io/en/latest/examples/azlyrics.html\n",
            "404 for 'https://langchain.readthedocs.io/en/latest/examples/azlyrics.html'\n",
            "https://langchain.readthedocs.io/en/latest/examples/unstructured_file.html\n",
            "404 for 'https://langchain.readthedocs.io/en/latest/examples/unstructured_file.html'\n",
            "https://langchain.readthedocs.io/en/latest/examples/googledrive.html\n",
            "404 for 'https://langchain.readthedocs.io/en/latest/examples/googledrive.html'\n",
            "https://langchain.readthedocs.io/en/latest/examples/gutenberg.html\n",
            "404 for 'https://langchain.readthedocs.io/en/latest/examples/gutenberg.html'\n",
            "https://langchain.readthedocs.io/en/latest/examples/directory_loader.html\n",
            "404 for 'https://langchain.readthedocs.io/en/latest/examples/directory_loader.html'\n",
            "https://langchain.readthedocs.io/en/latest/examples/pdf.html\n",
            "404 for 'https://langchain.readthedocs.io/en/latest/examples/pdf.html'\n",
            "https://langchain.readthedocs.io/en/latest/examples/obsidian.html\n",
            "404 for 'https://langchain.readthedocs.io/en/latest/examples/obsidian.html'\n",
            "https://langchain.readthedocs.io/en/latest/examples/blackboard.html\n",
            "404 for 'https://langchain.readthedocs.io/en/latest/examples/blackboard.html'\n",
            "https://langchain.readthedocs.io/en/latest/examples/copypaste.html\n",
            "404 for 'https://langchain.readthedocs.io/en/latest/examples/copypaste.html'\n",
            "https://langchain.readthedocs.io/en/latest/examples/ifixit.html\n",
            "404 for 'https://langchain.readthedocs.io/en/latest/examples/ifixit.html'\n",
            "https://langchain.readthedocs.io/en/latest/examples/image.html\n",
            "404 for 'https://langchain.readthedocs.io/en/latest/examples/image.html'\n",
            "https://langchain.readthedocs.io/en/latest/examples/telegram.html\n",
            "404 for 'https://langchain.readthedocs.io/en/latest/examples/telegram.html'\n",
            "https://langchain.readthedocs.io/en/latest/examples/email.html\n",
            "404 for 'https://langchain.readthedocs.io/en/latest/examples/email.html'\n",
            "https://langchain.readthedocs.io/en/latest/examples/airbyte_json.html\n",
            "404 for 'https://langchain.readthedocs.io/en/latest/examples/airbyte_json.html'\n",
            "https://langchain.readthedocs.io/en/latest/examples/roam.html\n",
            "404 for 'https://langchain.readthedocs.io/en/latest/examples/roam.html'\n",
            "https://langchain.readthedocs.io/en/latest/examples/csv.html\n",
            "404 for 'https://langchain.readthedocs.io/en/latest/examples/csv.html'\n",
            "https://langchain.readthedocs.io/en/latest/examples/readthedocs_documentation.html\n",
            "404 for 'https://langchain.readthedocs.io/en/latest/examples/readthedocs_documentation.html'\n",
            "https://langchain.readthedocs.io/en/latest/examples/college_confidential.html\n",
            "404 for 'https://langchain.readthedocs.io/en/latest/examples/college_confidential.html'\n",
            "https://langchain.readthedocs.io/en/latest/examples/web_base.html\n",
            "404 for 'https://langchain.readthedocs.io/en/latest/examples/web_base.html'\n",
            "https://langchain.readthedocs.io/en/latest/examples/notebook.html\n",
            "404 for 'https://langchain.readthedocs.io/en/latest/examples/notebook.html'\n",
            "https://langchain.readthedocs.io/en/latest/examples/url.html\n",
            "404 for 'https://langchain.readthedocs.io/en/latest/examples/url.html'\n",
            "https://langchain.readthedocs.io/en/latest/examples/imsdb.html\n",
            "404 for 'https://langchain.readthedocs.io/en/latest/examples/imsdb.html'\n",
            "https://langchain.readthedocs.io/en/latest/examples/CoNLL-U.html\n",
            "404 for 'https://langchain.readthedocs.io/en/latest/examples/CoNLL-U.html'\n",
            "https://langchain.readthedocs.io/en/latest/modules/indexes/vectorstore_examples/weaviate.html\n",
            "https://langchain.readthedocs.io/en/latest/modules/chains/generic/transformation.html\n",
            "https://langchain.readthedocs.io/en/latest/vectorstore_examples/qdrant.html\n",
            "404 for 'https://langchain.readthedocs.io/en/latest/vectorstore_examples/qdrant.html'\n",
            "https://langchain.readthedocs.io/en/latest/chat/getting_started.html\n",
            "404 for 'https://langchain.readthedocs.io/en/latest/chat/getting_started.html'\n",
            "https://langchain.readthedocs.io/en/latest/modules/utils/examples/serpapi.html\n",
            "https://langchain.readthedocs.io/en/latest/modules/agents/examples/async_agent.html\n",
            "https://langchain.readthedocs.io/en/latest/modules/memory/how_to_guides.html\n",
            "https://langchain.readthedocs.io/en/latest/types/buffer.html\n",
            "404 for 'https://langchain.readthedocs.io/en/latest/types/buffer.html'\n",
            "https://langchain.readthedocs.io/en/latest/examples/custom_memory.html\n",
            "404 for 'https://langchain.readthedocs.io/en/latest/examples/custom_memory.html'\n",
            "https://langchain.readthedocs.io/en/latest/types/entity_summary_memory.html\n",
            "404 for 'https://langchain.readthedocs.io/en/latest/types/entity_summary_memory.html'\n",
            "https://langchain.readthedocs.io/en/latest/types/kg.html\n",
            "404 for 'https://langchain.readthedocs.io/en/latest/types/kg.html'\n",
            "https://langchain.readthedocs.io/en/latest/examples/multiple_memory.html\n",
            "404 for 'https://langchain.readthedocs.io/en/latest/examples/multiple_memory.html'\n",
            "https://langchain.readthedocs.io/en/latest/examples/adding_memory.html\n",
            "404 for 'https://langchain.readthedocs.io/en/latest/examples/adding_memory.html'\n",
            "https://langchain.readthedocs.io/en/latest/examples/adding_memory_chain_multiple_inputs.html\n",
            "404 for 'https://langchain.readthedocs.io/en/latest/examples/adding_memory_chain_multiple_inputs.html'\n",
            "https://langchain.readthedocs.io/en/latest/types/summary.html\n",
            "404 for 'https://langchain.readthedocs.io/en/latest/types/summary.html'\n",
            "https://langchain.readthedocs.io/en/latest/examples/agent_with_memory.html\n",
            "404 for 'https://langchain.readthedocs.io/en/latest/examples/agent_with_memory.html'\n",
            "https://langchain.readthedocs.io/en/latest/types/buffer_window.html\n",
            "404 for 'https://langchain.readthedocs.io/en/latest/types/buffer_window.html'\n",
            "https://langchain.readthedocs.io/en/latest/types/summary_buffer.html\n",
            "404 for 'https://langchain.readthedocs.io/en/latest/types/summary_buffer.html'\n",
            "https://langchain.readthedocs.io/en/latest/examples/conversational_agent.html\n",
            "404 for 'https://langchain.readthedocs.io/en/latest/examples/conversational_agent.html'\n",
            "https://langchain.readthedocs.io/en/latest/modules/llms/streaming_llm.html\n",
            "https://langchain.readthedocs.io/en/latest/use_cases/evaluation.html\n",
            "https://langchain.readthedocs.io/en/latest/evaluation/qa_benchmarking_pg.html\n",
            "404 for 'https://langchain.readthedocs.io/en/latest/evaluation/qa_benchmarking_pg.html'\n",
            "https://langchain.readthedocs.io/en/latest/evaluation/benchmarking_template.html\n",
            "404 for 'https://langchain.readthedocs.io/en/latest/evaluation/benchmarking_template.html'\n",
            "https://langchain.readthedocs.io/en/latest/evaluation/data_augmented_question_answering.html\n",
            "404 for 'https://langchain.readthedocs.io/en/latest/evaluation/data_augmented_question_answering.html'\n",
            "https://langchain.readthedocs.io/en/latest/evaluation/qa_benchmarking_sota.html\n",
            "404 for 'https://langchain.readthedocs.io/en/latest/evaluation/qa_benchmarking_sota.html'\n",
            "https://langchain.readthedocs.io/en/latest/evaluation/sql_qa_benchmarking_chinook.html\n",
            "404 for 'https://langchain.readthedocs.io/en/latest/evaluation/sql_qa_benchmarking_chinook.html'\n",
            "https://langchain.readthedocs.io/en/latest/evaluation/agent_vectordb_sota_pg.html\n",
            "404 for 'https://langchain.readthedocs.io/en/latest/evaluation/agent_vectordb_sota_pg.html'\n",
            "https://langchain.readthedocs.io/en/latest/evaluation/agent_benchmarking.html\n",
            "404 for 'https://langchain.readthedocs.io/en/latest/evaluation/agent_benchmarking.html'\n",
            "https://langchain.readthedocs.io/en/latest/evaluation/question_answering.html\n",
            "404 for 'https://langchain.readthedocs.io/en/latest/evaluation/question_answering.html'\n",
            "https://langchain.readthedocs.io/en/latest/examples/evernote.html\n",
            "404 for 'https://langchain.readthedocs.io/en/latest/examples/evernote.html'\n",
            "https://langchain.readthedocs.io/en/latest/examples/google_search.html\n",
            "404 for 'https://langchain.readthedocs.io/en/latest/examples/google_search.html'\n",
            "https://langchain.readthedocs.io/en/latest/modules/chains/examples/llm_requests.html\n",
            "https://langchain.readthedocs.io/en/latest/modules/llms/integrations/petals_example.html\n",
            "https://langchain.readthedocs.io/en/latest/examples/bash.html\n",
            "404 for 'https://langchain.readthedocs.io/en/latest/examples/bash.html'\n",
            "https://langchain.readthedocs.io/en/latest/modules/chains/generic/sequential_chains.html\n",
            "https://langchain.readthedocs.io/en/latest/modules/chat/how_to_guides.html\n",
            "https://langchain.readthedocs.io/en/latest/modules/chat/key_concepts.html\n",
            "https://langchain.readthedocs.io/en/latest/modules/indexes/vectorstore_examples/milvus.html\n",
            "https://langchain.readthedocs.io/en/latest/chat/key_concepts.html\n",
            "404 for 'https://langchain.readthedocs.io/en/latest/chat/key_concepts.html'\n",
            "https://langchain.readthedocs.io/en/latest/examples/token_usage_tracking.html\n",
            "404 for 'https://langchain.readthedocs.io/en/latest/examples/token_usage_tracking.html'\n",
            "https://langchain.readthedocs.io/en/latest/glossary.html\n",
            "https://langchain.readthedocs.io/en/latest/modules/memory/examples/chatgpt_clone.html\n",
            "https://langchain.readthedocs.io/en/latest/chains/getting_started.html\n",
            "404 for 'https://langchain.readthedocs.io/en/latest/chains/getting_started.html'\n",
            "https://langchain.readthedocs.io/en/latest/generic/llm_chain.html\n",
            "404 for 'https://langchain.readthedocs.io/en/latest/generic/llm_chain.html'\n",
            "https://langchain.readthedocs.io/en/latest/modules/memory.html\n",
            "https://langchain.readthedocs.io/en/latest/memory/how_to_guides.html\n",
            "404 for 'https://langchain.readthedocs.io/en/latest/memory/how_to_guides.html'\n",
            "https://langchain.readthedocs.io/en/latest/use_cases/evaluation/qa_benchmarking_sota.html\n",
            "https://langchain.readthedocs.io/en/latest/memory/key_concepts.html\n",
            "404 for 'https://langchain.readthedocs.io/en/latest/memory/key_concepts.html'\n",
            "https://langchain.readthedocs.io/en/latest/examples/hn.html\n",
            "404 for 'https://langchain.readthedocs.io/en/latest/examples/hn.html'\n",
            "https://langchain.readthedocs.io/en/latest/modules/document_loaders/examples/facebook_chat.html\n",
            "https://langchain.readthedocs.io/en/latest/modules/indexes/vectorstore_examples/elasticsearch.html\n",
            "https://langchain.readthedocs.io/en/latest/modules/indexes/vectorstore_examples/qdrant.html\n",
            "https://langchain.readthedocs.io/en/latest/chain_examples/graph_qa.html\n",
            "404 for 'https://langchain.readthedocs.io/en/latest/chain_examples/graph_qa.html'\n",
            "https://langchain.readthedocs.io/en/latest/modules/document_loaders/examples/blackboard.html\n",
            "https://langchain.readthedocs.io/en/latest/examples/youtube.html\n",
            "404 for 'https://langchain.readthedocs.io/en/latest/examples/youtube.html'\n",
            "https://langchain.readthedocs.io/en/latest/modules/document_loaders/examples/gutenberg.html\n",
            "https://langchain.readthedocs.io/en/latest/modules/prompts/how_to_guides.html\n",
            "https://langchain.readthedocs.io/en/latest/examples/custom_example_selector.html\n",
            "404 for 'https://langchain.readthedocs.io/en/latest/examples/custom_example_selector.html'\n",
            "https://langchain.readthedocs.io/en/latest/examples/prompt_serialization.html\n",
            "404 for 'https://langchain.readthedocs.io/en/latest/examples/prompt_serialization.html'\n",
            "https://langchain.readthedocs.io/en/latest/getting_started.html\n",
            "404 for 'https://langchain.readthedocs.io/en/latest/getting_started.html'\n",
            "https://langchain.readthedocs.io/en/latest/examples/custom_prompt_template.html\n",
            "404 for 'https://langchain.readthedocs.io/en/latest/examples/custom_prompt_template.html'\n",
            "https://langchain.readthedocs.io/en/latest/examples/partial.html\n",
            "404 for 'https://langchain.readthedocs.io/en/latest/examples/partial.html'\n",
            "https://langchain.readthedocs.io/en/latest/examples/few_shot_examples.html\n",
            "404 for 'https://langchain.readthedocs.io/en/latest/examples/few_shot_examples.html'\n",
            "https://langchain.readthedocs.io/en/latest/gallery.html\n",
            "https://langchain.readthedocs.io/en/latest/modules/document_loaders/examples/pdf.html\n",
            "https://langchain.readthedocs.io/en/latest/modules/chains/async_chain.html\n",
            "https://langchain.readthedocs.io/en/latest/modules/chains/examples/pal.html\n",
            "https://langchain.readthedocs.io/en/latest/modules/llms/integrations/azure_openai_example.html\n",
            "https://langchain.readthedocs.io/en/latest/vectorstore_examples/pgvector.html\n",
            "404 for 'https://langchain.readthedocs.io/en/latest/vectorstore_examples/pgvector.html'\n",
            "https://langchain.readthedocs.io/en/latest/modules/memory/examples/adding_memory_chain_multiple_inputs.html\n",
            "https://langchain.readthedocs.io/en/latest/vectorstore_examples/pinecone.html\n",
            "404 for 'https://langchain.readthedocs.io/en/latest/vectorstore_examples/pinecone.html'\n",
            "https://langchain.readthedocs.io/en/latest/examples/notion.html\n",
            "404 for 'https://langchain.readthedocs.io/en/latest/examples/notion.html'\n",
            "https://langchain.readthedocs.io/en/latest/integrations/anthropic_example.html\n",
            "404 for 'https://langchain.readthedocs.io/en/latest/integrations/anthropic_example.html'\n",
            "https://langchain.readthedocs.io/en/latest/examples/llm_serialization.html\n",
            "404 for 'https://langchain.readthedocs.io/en/latest/examples/llm_serialization.html'\n",
            "https://langchain.readthedocs.io/en/latest/modules/llms/integrations/cohere.html\n",
            "https://langchain.readthedocs.io/en/latest/modules/agents/examples/agent_vectorstore.html\n",
            "https://langchain.readthedocs.io/en/latest/integrations/petals_example.html\n",
            "404 for 'https://langchain.readthedocs.io/en/latest/integrations/petals_example.html'\n",
            "https://langchain.readthedocs.io/en/latest/modules/document_loaders/key_concepts.html\n",
            "https://langchain.readthedocs.io/en/latest/chat/how_to_guides.html\n",
            "404 for 'https://langchain.readthedocs.io/en/latest/chat/how_to_guides.html'\n",
            "https://langchain.readthedocs.io/en/latest/examples/custom_llm.html\n",
            "404 for 'https://langchain.readthedocs.io/en/latest/examples/custom_llm.html'\n",
            "https://langchain.readthedocs.io/en/latest/modules/agents/examples/search_tools.html\n",
            "https://langchain.readthedocs.io/en/latest/use_cases/evaluation/qa_generation.html\n",
            "https://langchain.readthedocs.io/en/latest/examples/chatgpt_clone.html\n",
            "404 for 'https://langchain.readthedocs.io/en/latest/examples/chatgpt_clone.html'\n",
            "https://langchain.readthedocs.io/en/latest/memory/getting_started.html\n",
            "404 for 'https://langchain.readthedocs.io/en/latest/memory/getting_started.html'\n",
            "https://langchain.readthedocs.io/en/latest/chains/how_to_guides.html\n",
            "404 for 'https://langchain.readthedocs.io/en/latest/chains/how_to_guides.html'\n",
            "https://langchain.readthedocs.io/en/latest/modules/indexes/chain_examples/question_answering.html\n",
            "https://langchain.readthedocs.io/en/latest/integrations/ai21.html\n",
            "404 for 'https://langchain.readthedocs.io/en/latest/integrations/ai21.html'\n",
            "https://langchain.readthedocs.io/en/latest/examples/python.html\n",
            "404 for 'https://langchain.readthedocs.io/en/latest/examples/python.html'\n",
            "https://langchain.readthedocs.io/en/latest/modules/memory/types/token_buffer.html\n",
            "https://langchain.readthedocs.io/en/latest/modules/chains/key_concepts.html\n",
            "https://langchain.readthedocs.io/en/latest/examples/conversational_customization.html\n",
            "404 for 'https://langchain.readthedocs.io/en/latest/examples/conversational_customization.html'\n",
            "https://langchain.readthedocs.io/en/latest/modules/agents/agent_toolkits/vectorstore.html\n",
            "https://langchain.readthedocs.io/en/latest/modules/document_loaders/examples/hn.html\n",
            "https://langchain.readthedocs.io/en/latest/examples/gitbook.html\n",
            "404 for 'https://langchain.readthedocs.io/en/latest/examples/gitbook.html'\n",
            "https://langchain.readthedocs.io/en/latest/examples/s3_file.html\n",
            "404 for 'https://langchain.readthedocs.io/en/latest/examples/s3_file.html'\n",
            "https://langchain.readthedocs.io/en/latest/modules/agents/examples/intermediate_steps.html\n",
            "https://langchain.readthedocs.io/en/latest/modules/document_loaders/examples/image.html\n",
            "https://langchain.readthedocs.io/en/latest/modules/document_loaders/examples/azlyrics.html\n",
            "https://langchain.readthedocs.io/en/latest/examples/srt.html\n",
            "404 for 'https://langchain.readthedocs.io/en/latest/examples/srt.html'\n",
            "https://langchain.readthedocs.io/en/latest/examples/bing_search.html\n",
            "404 for 'https://langchain.readthedocs.io/en/latest/examples/bing_search.html'\n",
            "https://langchain.readthedocs.io/en/latest/integrations/writer.html\n",
            "404 for 'https://langchain.readthedocs.io/en/latest/integrations/writer.html'\n",
            "https://langchain.readthedocs.io/en/latest/ecosystem.html\n",
            "https://langchain.readthedocs.io/en/latest/examples/embeddings.html\n",
            "404 for 'https://langchain.readthedocs.io/en/latest/examples/embeddings.html'\n",
            "https://langchain.readthedocs.io/en/latest/modules/chat/examples/chat_vector_db.html\n",
            "https://langchain.readthedocs.io/en/latest/modules/utils/examples/wolfram_alpha.html\n",
            "https://langchain.readthedocs.io/en/latest/modules/document_loaders/examples/gitbook.html\n",
            "https://langchain.readthedocs.io/en/latest/examples/llm_math.html\n",
            "404 for 'https://langchain.readthedocs.io/en/latest/examples/llm_math.html'\n",
            "https://langchain.readthedocs.io/en/latest/modules/llms/integrations/promptlayer_openai.html\n",
            "https://langchain.readthedocs.io/en/latest/modules/utils/examples/bash.html\n",
            "https://langchain.readthedocs.io/en/latest/integrations/huggingface_hub.html\n",
            "404 for 'https://langchain.readthedocs.io/en/latest/integrations/huggingface_hub.html'\n",
            "https://langchain.readthedocs.io/en/latest/modules/document_loaders/examples/copypaste.html\n",
            "https://langchain.readthedocs.io/en/latest/modules/memory/types/summary_buffer.html\n",
            "https://langchain.readthedocs.io/en/latest/examples/example_selectors.html\n",
            "404 for 'https://langchain.readthedocs.io/en/latest/examples/example_selectors.html'\n",
            "https://langchain.readthedocs.io/en/latest/examples/html.html\n",
            "404 for 'https://langchain.readthedocs.io/en/latest/examples/html.html'\n",
            "https://langchain.readthedocs.io/en/latest/generic_how_to.html\n",
            "404 for 'https://langchain.readthedocs.io/en/latest/generic_how_to.html'\n",
            "https://langchain.readthedocs.io/en/latest/examples/s3_directory.html\n",
            "404 for 'https://langchain.readthedocs.io/en/latest/examples/s3_directory.html'\n",
            "https://langchain.readthedocs.io/en/latest/modules/agents/agent_toolkits/csv.html\n",
            "https://langchain.readthedocs.io/en/latest/use_cases/combine_docs.html\n",
            "https://langchain.readthedocs.io/en/latest/examples/moderation.html\n",
            "404 for 'https://langchain.readthedocs.io/en/latest/examples/moderation.html'\n",
            "https://langchain.readthedocs.io/en/latest/modules/prompts/examples/custom_example_selector.html\n",
            "https://langchain.readthedocs.io/en/latest/examples/llm_requests.html\n",
            "404 for 'https://langchain.readthedocs.io/en/latest/examples/llm_requests.html'\n",
            "https://langchain.readthedocs.io/en/latest/evaluation/qa_generation.html\n",
            "404 for 'https://langchain.readthedocs.io/en/latest/evaluation/qa_generation.html'\n",
            "https://langchain.readthedocs.io/en/latest/modules/agents/implementations/mrkl.html\n",
            "https://langchain.readthedocs.io/en/latest/modules/chains/examples/constitutional_chain.html\n",
            "https://langchain.readthedocs.io/en/latest/modules/prompts/examples/output_parsers.html\n",
            "https://langchain.readthedocs.io/en/latest/chain_examples/summarize.html\n",
            "404 for 'https://langchain.readthedocs.io/en/latest/chain_examples/summarize.html'\n",
            "https://langchain.readthedocs.io/en/latest/examples/llm_bash.html\n",
            "404 for 'https://langchain.readthedocs.io/en/latest/examples/llm_bash.html'\n",
            "https://langchain.readthedocs.io/en/latest/chain_examples/analyze_document.html\n",
            "404 for 'https://langchain.readthedocs.io/en/latest/chain_examples/analyze_document.html'\n",
            "https://langchain.readthedocs.io/en/latest/examples/pal.html\n",
            "404 for 'https://langchain.readthedocs.io/en/latest/examples/pal.html'\n",
            "https://langchain.readthedocs.io/en/latest/modules/memory/types/buffer_window.html\n",
            "https://langchain.readthedocs.io/en/latest/examples/gcs_file.html\n",
            "404 for 'https://langchain.readthedocs.io/en/latest/examples/gcs_file.html'\n",
            "https://langchain.readthedocs.io/en/latest/modules/document_loaders/examples/figma.html\n",
            "https://langchain.readthedocs.io/en/latest/use_cases/agents.html\n",
            "https://langchain.readthedocs.io/en/latest/modules/document_loaders/examples/email.html\n",
            "https://langchain.readthedocs.io/en/latest/modules/agents/agent_toolkits/python.html\n",
            "https://langchain.readthedocs.io/en/latest/examples/textsplitter.html\n",
            "404 for 'https://langchain.readthedocs.io/en/latest/examples/textsplitter.html'\n",
            "https://langchain.readthedocs.io/en/latest/chains/key_concepts.html\n",
            "404 for 'https://langchain.readthedocs.io/en/latest/chains/key_concepts.html'\n",
            "https://langchain.readthedocs.io/en/latest/vectorstore_examples/milvus.html\n",
            "404 for 'https://langchain.readthedocs.io/en/latest/vectorstore_examples/milvus.html'\n",
            "https://langchain.readthedocs.io/en/latest/modules/indexes.html\n",
            "https://langchain.readthedocs.io/en/latest/indexes/getting_started.html\n",
            "404 for 'https://langchain.readthedocs.io/en/latest/indexes/getting_started.html'\n",
            "https://langchain.readthedocs.io/en/latest/indexes/key_concepts.html\n",
            "404 for 'https://langchain.readthedocs.io/en/latest/indexes/key_concepts.html'\n",
            "https://langchain.readthedocs.io/en/latest/chain_examples/vector_db_qa_with_sources.html\n",
            "404 for 'https://langchain.readthedocs.io/en/latest/chain_examples/vector_db_qa_with_sources.html'\n",
            "https://langchain.readthedocs.io/en/latest/examples/word_document.html\n",
            "404 for 'https://langchain.readthedocs.io/en/latest/examples/word_document.html'\n",
            "https://langchain.readthedocs.io/en/latest/modules/agents/agent_toolkits/openapi.html\n",
            "https://langchain.readthedocs.io/en/latest/modules/agents/how_to_guides.html\n",
            "https://langchain.readthedocs.io/en/latest/examples/multi_input_tool.html\n",
            "404 for 'https://langchain.readthedocs.io/en/latest/examples/multi_input_tool.html'\n",
            "https://langchain.readthedocs.io/en/latest/agent_toolkits/openapi.html\n",
            "404 for 'https://langchain.readthedocs.io/en/latest/agent_toolkits/openapi.html'\n",
            "https://langchain.readthedocs.io/en/latest/examples/custom_tools.html\n",
            "404 for 'https://langchain.readthedocs.io/en/latest/examples/custom_tools.html'\n",
            "https://langchain.readthedocs.io/en/latest/agents.html\n",
            "404 for 'https://langchain.readthedocs.io/en/latest/agents.html'\n",
            "https://langchain.readthedocs.io/en/latest/agent_toolkits/pandas.html\n",
            "404 for 'https://langchain.readthedocs.io/en/latest/agent_toolkits/pandas.html'\n",
            "https://langchain.readthedocs.io/en/latest/agent_toolkits/sql_database.html\n",
            "404 for 'https://langchain.readthedocs.io/en/latest/agent_toolkits/sql_database.html'\n",
            "https://langchain.readthedocs.io/en/latest/examples/max_iterations.html\n",
            "404 for 'https://langchain.readthedocs.io/en/latest/examples/max_iterations.html'\n",
            "https://langchain.readthedocs.io/en/latest/examples/intermediate_steps.html\n",
            "404 for 'https://langchain.readthedocs.io/en/latest/examples/intermediate_steps.html'\n",
            "https://langchain.readthedocs.io/en/latest/examples/load_from_hub.html\n",
            "404 for 'https://langchain.readthedocs.io/en/latest/examples/load_from_hub.html'\n",
            "https://langchain.readthedocs.io/en/latest/implementations/react.html\n",
            "404 for 'https://langchain.readthedocs.io/en/latest/implementations/react.html'\n",
            "https://langchain.readthedocs.io/en/latest/tools.html\n",
            "404 for 'https://langchain.readthedocs.io/en/latest/tools.html'\n",
            "https://langchain.readthedocs.io/en/latest/agent_toolkits/python.html\n",
            "404 for 'https://langchain.readthedocs.io/en/latest/agent_toolkits/python.html'\n",
            "https://langchain.readthedocs.io/en/latest/agent_toolkits/vectorstore.html\n",
            "404 for 'https://langchain.readthedocs.io/en/latest/agent_toolkits/vectorstore.html'\n",
            "https://langchain.readthedocs.io/en/latest/agent_toolkits/csv.html\n",
            "404 for 'https://langchain.readthedocs.io/en/latest/agent_toolkits/csv.html'\n",
            "https://langchain.readthedocs.io/en/latest/implementations/self_ask_with_search.html\n",
            "404 for 'https://langchain.readthedocs.io/en/latest/implementations/self_ask_with_search.html'\n",
            "https://langchain.readthedocs.io/en/latest/examples/custom_agent.html\n",
            "404 for 'https://langchain.readthedocs.io/en/latest/examples/custom_agent.html'\n",
            "https://langchain.readthedocs.io/en/latest/examples/search_tools.html\n",
            "404 for 'https://langchain.readthedocs.io/en/latest/examples/search_tools.html'\n",
            "https://langchain.readthedocs.io/en/latest/implementations/mrkl.html\n",
            "404 for 'https://langchain.readthedocs.io/en/latest/implementations/mrkl.html'\n",
            "https://langchain.readthedocs.io/en/latest/examples/async_agent.html\n",
            "404 for 'https://langchain.readthedocs.io/en/latest/examples/async_agent.html'\n",
            "https://langchain.readthedocs.io/en/latest/agent_toolkits/json.html\n",
            "404 for 'https://langchain.readthedocs.io/en/latest/agent_toolkits/json.html'\n",
            "https://langchain.readthedocs.io/en/latest/examples/agent_vectorstore.html\n",
            "404 for 'https://langchain.readthedocs.io/en/latest/examples/agent_vectorstore.html'\n",
            "https://langchain.readthedocs.io/en/latest/modules/llms/integrations/huggingface_hub.html\n",
            "https://langchain.readthedocs.io/en/latest/modules/agents/implementations/mrkl_chat.html\n",
            "https://langchain.readthedocs.io/en/latest/modules/indexes/chain_examples/vector_db_text_generation.html\n",
            "https://langchain.readthedocs.io/en/latest/indexes/how_to_guides.html\n",
            "404 for 'https://langchain.readthedocs.io/en/latest/indexes/how_to_guides.html'\n",
            "https://langchain.readthedocs.io/en/latest/examples/markdown.html\n",
            "404 for 'https://langchain.readthedocs.io/en/latest/examples/markdown.html'\n",
            "https://langchain.readthedocs.io/en/latest/modules/llms/integrations/writer.html\n",
            "https://langchain.readthedocs.io/en/latest/chain_examples/vector_db_text_generation.html\n",
            "404 for 'https://langchain.readthedocs.io/en/latest/chain_examples/vector_db_text_generation.html'\n",
            "https://langchain.readthedocs.io/en/latest/modules/document_loaders/examples/html.html\n",
            "https://langchain.readthedocs.io/en/latest/modules/indexes/getting_started.html\n",
            "https://langchain.readthedocs.io/en/latest/evaluation/huggingface_datasets.html\n",
            "404 for 'https://langchain.readthedocs.io/en/latest/evaluation/huggingface_datasets.html'\n",
            "https://langchain.readthedocs.io/en/latest/modules/document_loaders/examples/telegram.html\n",
            "https://langchain.readthedocs.io/en/latest/modules/chains/examples/sqlite.html\n",
            "Complete\n"
          ]
        }
      ],
      "source": [
        "links = [\"https://langchain.readthedocs.io/en/latest/\"]\n",
        "scraped = set()\n",
        "data = []\n",
        "\n",
        "while True:\n",
        "    if len(links) == 0:\n",
        "        print(\"Complete\")\n",
        "        break\n",
        "    url = links[0]\n",
        "    print(url)\n",
        "    res = scrape(url)\n",
        "    scraped.add(url)\n",
        "    if res is not None:\n",
        "        page_content, local_links = res\n",
        "        data.append(page_content)\n",
        "        # add new links to links list\n",
        "        links.extend(local_links)\n",
        "        # remove duplicates\n",
        "        links = list(set(links))\n",
        "    # remove links already scraped\n",
        "    links = [link for link in links if link not in scraped]"
      ]
    },
    {
      "cell_type": "code",
      "execution_count": null,
      "metadata": {
        "id": "F0tUQRxtzqF0"
      },
      "outputs": [],
      "source": [
        "data[3]"
      ]
    },
    {
      "cell_type": "markdown",
      "metadata": {
        "id": "ouY4rcx7z2oa"
      },
      "source": [
        "It's pretty ugly but it's good enough for now. Let's see how we can process all of these. We will chunk everything into ~1000 token chunks, we can do this easily with `langchain` and `tiktoken`:"
      ]
    },
    {
      "cell_type": "code",
      "execution_count": null,
      "metadata": {
        "id": "Rb7KxUqYzsuV"
      },
      "outputs": [],
      "source": [
        "import tiktoken\n",
        "\n",
        "tokenizer = tiktoken.get_encoding('p50k_base')\n",
        "\n",
        "# create the length function\n",
        "def tiktoken_len(text):\n",
        "    tokens = tokenizer.encode(\n",
        "        text,\n",
        "        disallowed_special=()\n",
        "    )\n",
        "    return len(tokens)"
      ]
    },
    {
      "cell_type": "code",
      "execution_count": null,
      "metadata": {
        "id": "OKO8e3Dp0dQS"
      },
      "outputs": [],
      "source": [
        "from langchain.text_splitter import RecursiveCharacterTextSplitter\n",
        "\n",
        "text_splitter = RecursiveCharacterTextSplitter(\n",
        "    chunk_size=500,\n",
        "    chunk_overlap=20,\n",
        "    length_function=tiktoken_len,\n",
        "    separators=[\"\\n\\n\", \"\\n\", \" \", \"\"]\n",
        ")"
      ]
    },
    {
      "cell_type": "markdown",
      "metadata": {
        "id": "bLdvW8eq06Zd"
      },
      "source": [
        "Process the `data` into more chunks using this approach."
      ]
    },
    {
      "cell_type": "code",
      "execution_count": null,
      "metadata": {
        "id": "uOdPyiAQ0uWs"
      },
      "outputs": [],
      "source": [
        "from uuid import uuid4\n",
        "from tqdm.auto import tqdm\n",
        "\n",
        "chunks = []\n",
        "\n",
        "for idx, record in enumerate(tqdm(data)):\n",
        "    texts = text_splitter.split_text(record['text'])\n",
        "    chunks.extend([{\n",
        "        'id': str(uuid4()),\n",
        "        'text': texts[i],\n",
        "        'chunk': i,\n",
        "        'url': record['url']\n",
        "    } for i in range(len(texts))])"
      ]
    },
    {
      "cell_type": "markdown",
      "metadata": {
        "id": "JegURaAg2PuN"
      },
      "source": [
        "Our chunks are ready so now we move onto embedding and indexing everything."
      ]
    },
    {
      "cell_type": "markdown",
      "metadata": {
        "id": "zGIZbQqJ2WBh"
      },
      "source": [
        "## Initialize Embedding Model\n",
        "\n",
        "We use `text-embedding-ada-002` as the embedding model. We can embed text like so:"
      ]
    },
    {
      "cell_type": "code",
      "execution_count": null,
      "metadata": {
        "id": "kteZ69Z5M55S"
      },
      "outputs": [],
      "source": [
        "import openai\n",
        "\n",
        "# initialize openai API key\n",
        "openai.api_key = \"\"  #platform.openai.com\n",
        "\n",
        "embed_model = \"text-embedding-ada-002\"\n",
        "\n",
        "res = openai.Embedding.create(\n",
        "    input=[\n",
        "        \"Sample document text goes here\",\n",
        "        \"there will be several phrases in each batch\"\n",
        "    ], engine=embed_model\n",
        ")"
      ]
    },
    {
      "cell_type": "markdown",
      "metadata": {
        "id": "aNZ7IWekNLbu"
      },
      "source": [
        "In the response `res` we will find a JSON-like object containing our new embeddings within the `'data'` field."
      ]
    },
    {
      "cell_type": "code",
      "execution_count": null,
      "metadata": {
        "id": "esagZj6iNLPZ"
      },
      "outputs": [],
      "source": [
        "res.keys()"
      ]
    },
    {
      "cell_type": "markdown",
      "metadata": {
        "id": "zStnHFpkNVIU"
      },
      "source": [
        "Inside `'data'` we will find two records, one for each of the two sentences we just embedded. Each vector embedding contains `1536` dimensions (the output dimensionality of the `text-embedding-ada-002` model."
      ]
    },
    {
      "cell_type": "code",
      "execution_count": null,
      "metadata": {
        "id": "uVoP9VcINWAC"
      },
      "outputs": [],
      "source": [
        "len(res['data'])"
      ]
    },
    {
      "cell_type": "code",
      "execution_count": null,
      "metadata": {
        "id": "s-zraDCjNeC6"
      },
      "outputs": [],
      "source": [
        "len(res['data'][0]['embedding']), len(res['data'][1]['embedding'])"
      ]
    },
    {
      "cell_type": "markdown",
      "metadata": {
        "id": "XPd41MjANhmp"
      },
      "source": [
        "We will apply this same embedding logic to the langchain docs dataset we've just scraped. But before doing so we must create a place to store the embeddings."
      ]
    },
    {
      "cell_type": "markdown",
      "metadata": {
        "id": "WPi4MZvMNvUH"
      },
      "source": [
        "## Initializing the Index"
      ]
    },
    {
      "cell_type": "markdown",
      "metadata": {
        "id": "H5RRQArrN2lN"
      },
      "source": [
        "Now we need a place to store these embeddings and enable a efficient vector search through them all. To do that we use Pinecone, we can get a [free API key](https://app.pinecone.io/) and enter it below where we will initialize our connection to Pinecone and create a new index."
      ]
    },
    {
      "cell_type": "code",
      "execution_count": null,
      "metadata": {
        "id": "EO8sbJFZNyIZ"
      },
      "outputs": [],
      "source": [
        "import pinecone\n",
        "\n",
        "index_name = 'jg-documentation-brain'\n",
        "\n",
        "# initialize connection to pinecone\n",
        "pinecone.init(\n",
        "    api_key=\"\",  # app.pinecone.io (console)\n",
        "    environment=\"\"  # next to API key in console\n",
        ")\n",
        "\n",
        "# check if index already exists (it shouldn't if this is first time)\n",
        "if index_name not in pinecone.list_indexes():\n",
        "    # if does not exist, create index\n",
        "    pinecone.create_index(\n",
        "        index_name,\n",
        "        dimension=len(res['data'][0]['embedding']),\n",
        "        metric='dotproduct'\n",
        "    )\n",
        "# connect to index\n",
        "index = pinecone.GRPCIndex(index_name)\n",
        "# view index stats"
      ]
    },
    {
      "cell_type": "markdown",
      "metadata": {
        "id": "ezSTzN2rPa2o"
      },
      "source": [
        "We can see the index is currently empty with a `total_vector_count` of `0`. We can begin populating it with OpenAI `text-embedding-ada-002` built embeddings like so:"
      ]
    },
    {
      "cell_type": "code",
      "execution_count": null,
      "metadata": {
        "id": "iZbFbulAPeop"
      },
      "outputs": [],
      "source": [
        "from tqdm.auto import tqdm\n",
        "import datetime\n",
        "from time import sleep\n",
        "\n",
        "batch_size = 100  # how many embeddings we create and insert at once\n",
        "\n",
        "for i in tqdm(range(0, len(chunks), batch_size)):\n",
        "    # find end of batch\n",
        "    i_end = min(len(chunks), i+batch_size)\n",
        "    meta_batch = chunks[i:i_end]\n",
        "    # get ids\n",
        "    ids_batch = [x['id'] for x in meta_batch]\n",
        "    # get texts to encode\n",
        "    texts = [x['text'] for x in meta_batch]\n",
        "    # create embeddings (try-except added to avoid RateLimitError)\n",
        "    try:\n",
        "        res = openai.Embedding.create(input=texts, engine=embed_model)\n",
        "    except:\n",
        "        done = False\n",
        "        while not done:\n",
        "            sleep(5)\n",
        "            try:\n",
        "                res = openai.Embedding.create(input=texts, engine=embed_model)\n",
        "                done = True\n",
        "            except:\n",
        "                pass\n",
        "    embeds = [record['embedding'] for record in res['data']]\n",
        "    # cleanup metadata\n",
        "    meta_batch = [{\n",
        "        'text': x['text'],\n",
        "        'chunk': x['chunk'],\n",
        "        'url': x['url']\n",
        "    } for x in meta_batch]\n",
        "    to_upsert = list(zip(ids_batch, embeds, meta_batch))\n",
        "    # upsert to Pinecone\n",
        "    index.upsert(vectors=to_upsert)"
      ]
    },
    {
      "cell_type": "markdown",
      "metadata": {
        "id": "YttJOrEtQIF9"
      },
      "source": [
        "Now we've added all of our langchain docs to the index. With that we can move on to retrieval and then answer generation using GPT-4."
      ]
    },
    {
      "cell_type": "markdown",
      "metadata": {
        "id": "FumVmMRlQQ7w"
      },
      "source": [
        "## Retrieval"
      ]
    },
    {
      "cell_type": "markdown",
      "metadata": {
        "id": "nLRODeL-QTJ9"
      },
      "source": [
        "To search through our documents we first need to create a query vector `xq`. Using `xq` we will retrieve the most relevant chunks from the LangChain docs, like so:"
      ]
    },
    {
      "cell_type": "code",
      "execution_count": null,
      "metadata": {
        "id": "FMUPdX9cQQYC"
      },
      "outputs": [],
      "source": [
        "query = \"What is Langchain and how old is the Sun?\"\n",
        "\n",
        "res = openai.Embedding.create(\n",
        "    input=[query],\n",
        "    engine=embed_model\n",
        ")\n",
        "\n",
        "# retrieve from Pinecone\n",
        "xq = res['data'][0]['embedding']\n",
        "\n",
        "# get relevant contexts (including the questions)\n",
        "res = index.query(xq, top_k=5, include_metadata=True)"
      ]
    },
    {
      "cell_type": "code",
      "execution_count": null,
      "metadata": {
        "id": "zl9SrFPkQjg-"
      },
      "outputs": [],
      "source": [
        "res"
      ]
    },
    {
      "cell_type": "markdown",
      "metadata": {
        "id": "MoBSiDLIUADZ"
      },
      "source": [
        "With retrieval complete, we move on to feeding these into GPT-4 to produce answers."
      ]
    },
    {
      "cell_type": "markdown",
      "metadata": {
        "id": "qfzS4-6-UXgX"
      },
      "source": [
        "## Retrieval Augmented Generation"
      ]
    },
    {
      "cell_type": "markdown",
      "metadata": {
        "id": "XPC1jQaKUcy0"
      },
      "source": [
        "GPT-4 is currently accessed via the `ChatCompletions` endpoint of OpenAI. To add the information we retrieved into the model, we need to pass it into our user prompts *alongside* our original query. We can do that like so:"
      ]
    },
    {
      "cell_type": "code",
      "execution_count": null,
      "metadata": {
        "id": "unZstoHNUHeG"
      },
      "outputs": [],
      "source": [
        "# get list of retrieved text\n",
        "contexts = [item['metadata']['text'] for item in res['matches']]\n",
        "\n",
        "augmented_query = \"\\n\\n---\\n\\n\".join(contexts)+\"\\n\\n-----\\n\\n\"+query"
      ]
    },
    {
      "cell_type": "code",
      "execution_count": null,
      "metadata": {
        "id": "LRcEHm0Z9fXE"
      },
      "outputs": [],
      "source": [
        "print(augmented_query)"
      ]
    },
    {
      "cell_type": "markdown",
      "metadata": {
        "id": "sihH_GMiV5_p"
      },
      "source": [
        "Now we ask the question:"
      ]
    },
    {
      "cell_type": "code",
      "execution_count": null,
      "metadata": {
        "id": "IThBqBi8V70d"
      },
      "outputs": [],
      "source": [
        "# system message to 'prime' the model\n",
        "primer = f\"\"\"You are Q&A bot. A highly intelligent system that answers\n",
        "user questions based first on the information provided by the user above\n",
        "each question and second from your general knowledge. If the information can not be found in the information\n",
        "provided by the user then search your own knowledge to find the best response.\n",
        "\"\"\"\n",
        "\n",
        "res = openai.ChatCompletion.create(\n",
        "    model=\"gpt-3.5-turbo\",\n",
        "    messages=[\n",
        "        {\"role\": \"system\", \"content\": \"\"},\n",
        "        {\"role\": \"user\", \"content\": augmented_query}\n",
        "    ]\n",
        ")"
      ]
    },
    {
      "cell_type": "markdown",
      "metadata": {
        "id": "QvS1yJhOWpiJ"
      },
      "source": [
        "To display this response nicely, we will display it in markdown."
      ]
    },
    {
      "cell_type": "code",
      "execution_count": null,
      "metadata": {
        "id": "RDo2qeMHWto1"
      },
      "outputs": [],
      "source": [
        "from IPython.display import Markdown\n",
        "\n",
        "display(Markdown(res['choices'][0]['message']['content']))"
      ]
    },
    {
      "cell_type": "markdown",
      "metadata": {
        "id": "eJ-a8MHg0eYQ"
      },
      "source": [
        "Let's compare this to a non-augmented query..."
      ]
    },
    {
      "cell_type": "code",
      "execution_count": null,
      "metadata": {
        "id": "vwhaSgdF0ZDX"
      },
      "outputs": [],
      "source": [
        "res = openai.ChatCompletion.create(\n",
        "    model=\"gpt-3.5-turbo\",\n",
        "    messages=[\n",
        "        {\"role\": \"system\", \"content\": primer},\n",
        "        {\"role\": \"user\", \"content\": query}\n",
        "    ]\n",
        ")\n",
        "display(Markdown(res['choices'][0]['message']['content']))"
      ]
    },
    {
      "cell_type": "markdown",
      "metadata": {
        "id": "5CSsA-dW0m_P"
      },
      "source": [
        "If we drop the `\"I don't know\"` part of the `primer`?"
      ]
    },
    {
      "cell_type": "code",
      "execution_count": null,
      "metadata": {
        "id": "Z3svdTCZ0iJ2"
      },
      "outputs": [],
      "source": [
        "res = openai.ChatCompletion.create(\n",
        "    model=\"gpt-3.5-turbo\",\n",
        "    messages=[\n",
        "        {\"role\": \"system\", \"content\": \"You are Q&A bot. A highly intelligent system that answers user questions\"},\n",
        "        {\"role\": \"user\", \"content\": query}\n",
        "    ]\n",
        ")\n",
        "display(Markdown(res['choices'][0]['message']['content']))"
      ]
    },
    {
      "cell_type": "code",
      "execution_count": null,
      "metadata": {
        "id": "kqDEXo3c0w1K"
      },
      "outputs": [],
      "source": []
    }
  ],
  "metadata": {
    "colab": {
      "provenance": [],
      "include_colab_link": true
    },
    "kernelspec": {
      "display_name": "Python 3",
      "name": "python3"
    },
    "language_info": {
      "name": "python"
    }
  },
  "nbformat": 4,
  "nbformat_minor": 0
}